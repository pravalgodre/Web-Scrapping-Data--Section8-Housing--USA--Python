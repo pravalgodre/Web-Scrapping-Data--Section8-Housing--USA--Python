{
 "cells": [
  {
   "cell_type": "code",
   "execution_count": null,
   "metadata": {},
   "outputs": [],
   "source": [
    "from bs4 import BeautifulSoup\n",
    "import requests\n",
    "import html5lib\n",
    "import pandas as pd"
   ]
  },
  {
   "cell_type": "code",
   "execution_count": null,
   "metadata": {},
   "outputs": [],
   "source": [
    "# Declaring the empty lists to collect values from individual properties\n",
    "Address = []\n",
    "Type_of_Property = []\n",
    "Rent = []\n",
    "Deposit =[]\n",
    "Beds = []\n",
    "Baths = []\n",
    "Landlord_Name = []\n",
    "Landlord_Contact = []"
   ]
  },
  {
   "cell_type": "code",
   "execution_count": null,
   "metadata": {},
   "outputs": [],
   "source": [
    "for a in range(30):\n",
    "    \n",
    "    baseurl = 'https://www.gosection8.com/Tenant/tn_Results.aspx?Address=Dallas%20County,%20TX&minRent=0&maxRent=20000&propertyTypeList=All%20Property%20Type&bedrooms=0&bathrooms=1&Accessible=False&radius=&pictures=False&pets=False&ac=False&coveredParking=False&MaxSqFt=20000&MinSqFt=0&keyword=&AgeRestricted=False&smoking=False&pg='+str(a)\n",
    "    # downloading the html of the webpage\n",
    "    r = requests.get(baseurl)\n",
    "    # using beautiful soup to parse through elements of the downloaded html tree\n",
    "    soup = BeautifulSoup(r.content, 'html5lib')\n",
    "    # iterationcount gives the count of all the properites listed on a single page\n",
    "    iterationcount = len(soup.find_all('div', attrs={\"class\":\"listing-content\"}))\n",
    "    \n",
    "    # Scrapping the URLs of all the individual housing listed on a single page\n",
    "    l = list()\n",
    "    for i in range(iterationcount):\n",
    "        loop_id= \"MainContentPlaceHolder_properties_pnlDiv_\"+str(i)\n",
    "        l.append(soup.find('div', attrs={\"id\":loop_id})['onclick'].strip().split(\"'\")[1])\n",
    "    # Scrapping the content from each property\n",
    "    for element in l:\n",
    "        linkurl = 'https://www.gosection8.com'+element\n",
    "        r_sub = requests.get(linkurl)\n",
    "        soup_sub = BeautifulSoup(r_sub.content, 'html5lib')\n",
    "\n",
    "        Type_of_Property.append(soup_sub.find(\"span\", id=\"MainContentPlaceHolder_ptype\").text)\n",
    "        Rent.append(soup_sub.find(\"span\", id=\"MainContentPlaceHolder_rdep\").text)\n",
    "        Deposit.append(soup_sub.find(\"span\", id=\"MainContentPlaceHolder_rdep2\").text)\n",
    "        Beds.append(soup_sub.find(\"span\", id=\"MainContentPlaceHolder_bb\").text)\n",
    "        Baths.append(soup_sub.find(\"span\", id=\"MainContentPlaceHolder_bb2\").text)\n",
    "        \n",
    "        if soup_sub.find(\"span\", id=\"MainContentPlaceHolder_Contact1_landlordName\") == None:\n",
    "            Landlord_Name.append(soup_sub.find(\"span\", id=\"MainContentPlaceHolder_LLNameLbl\").text)\n",
    "        else: \n",
    "            Landlord_Name.append(soup_sub.find(\"span\", id=\"MainContentPlaceHolder_Contact1_landlordName\").text)\n",
    "        \n",
    "        if soup_sub.find(\"span\", id=\"MainContentPlaceHolder_Contact1_landlordPhone\") == None:\n",
    "            Landlord_Contact.append(soup_sub.find(\"span\", id=\"MainContentPlaceHolder_lblPhoneDisplay\").text)\n",
    "        else: \n",
    "            Landlord_Contact.append(soup_sub.find(\"span\", id=\"MainContentPlaceHolder_Contact1_landlordPhone\").text)\n",
    "            \n",
    "        #Landlord_Contact.append(soup_sub.find(\"span\", id=\"MainContentPlaceHolder_Contact1_landlordPhone\").text)\n",
    "        Address.append(soup_sub.find(\"span\", id=\"addr\").text+', '+ soup_sub.find(\"span\", id=\"addr2\").text)"
   ]
  },
  {
   "cell_type": "code",
   "execution_count": null,
   "metadata": {},
   "outputs": [],
   "source": [
    "# Creating dataframe\n",
    "df = pd.DataFrame(columns = [\"Address\",\"Type_of_Property\",\"Landlord_Name\",\"Phone_Number\",\"Beds\",\"Baths\",\"Rent\",\"Deposit\"])\n",
    "df[\"Address\"] = Address\n",
    "df[\"Type_of_Property\"] = Type_of_Property\n",
    "df[\"Rent\"] = Rent\n",
    "df[\"Deposit\"] = Deposit\n",
    "df[\"Beds\"] = Beds\n",
    "df[\"Baths\"] = Baths\n",
    "df[\"Landlord_Name\"] = Landlord_Name\n",
    "df[\"Phone_Number\"] = Landlord_Contact"
   ]
  },
  {
   "cell_type": "code",
   "execution_count": null,
   "metadata": {},
   "outputs": [],
   "source": [
    "# Converting dataframe to csv\n",
    "df.to_csv(r'C:\\Users\\prava\\Desktop\\UTD_SM\\Fall 19\\CPAL_Project\\section8Scraped.csv',index=None)"
   ]
  }
 ],
 "metadata": {
  "kernelspec": {
   "display_name": "Python 3",
   "language": "python",
   "name": "python3"
  },
  "language_info": {
   "codemirror_mode": {
    "name": "ipython",
    "version": 3
   },
   "file_extension": ".py",
   "mimetype": "text/x-python",
   "name": "python",
   "nbconvert_exporter": "python",
   "pygments_lexer": "ipython3",
   "version": "3.7.0"
  }
 },
 "nbformat": 4,
 "nbformat_minor": 2
}
